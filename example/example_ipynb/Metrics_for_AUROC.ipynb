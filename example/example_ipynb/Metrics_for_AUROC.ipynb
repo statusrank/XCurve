{
 "cells": [
  {
   "cell_type": "markdown",
   "metadata": {},
   "source": [
    "# XCurve.Metrics\n",
    "In this file, we will introduce how to evaluate our metrics included in XCurve. Specifically, XCurve supports the following metrics:\n",
    "- AUROC\n",
    "- PartialAUROC\n",
    "- AUPRC\n",
    "- AUTKC\n",
    "- OpenAUC"
   ]
  },
  {
   "cell_type": "markdown",
   "metadata": {},
   "source": [
    "## Area Under the ROC Curve (AUROC)\n",
    "> XCurve.Metrics.AUCROC(y_true, y_pred, multi_type='ovo', acc=True)\n",
    "\n",
    "### Brief Introductions\n",
    "Compute Area Under the ROC Curve (AUC). \n",
    "Note that, this function can not only be used to binary but also multiclass AUC (either 'ova' or 'ovo'). \n",
    "For binary classifications, we have\n",
    "$$\n",
    "    \\text{AUROC}(f) = \\frac{1}{n_+n_-}\\sum_{i=1}^{n_+}\\sum_{j=1}^{n_-}\\mathbb{I}[f(x_i^+) > f(x_j^-)],\n",
    "$$\n",
    "where $f$ is a binary classifier, $n_+$ ($n_-$) is the number of positive (negative) samples.\n",
    "\n",
    "For multiclass AUC (MAROC) problems, there are two schemes to compute MAUROC score.\n",
    "\n",
    "(1) One vs. All (OVA) Regime:\n",
    "$$\n",
    "    \\text{MAUROC}_{\\texttt{ova}}(f) = \\frac{1}{N_{C}}\\sum_{n_c=1}^{N_C}\\text{AUROC}_{n_c|\\neg n_c}(f^{(n_c)}),\n",
    "$$\n",
    "where $f = \\{f^{(1)}, f^{(2)}, \\dots, f^{(N_C)}\\}$ is a classifier with $N_C$ channels and $N_C$ is the number of classes, $\\text{AUROC}_{n_c|\\neg n_c}(f^{(n_c)})$ refers to a pairwise AUC score for each $f^{(n_c)}$, where the positive samples are drawn from the $n_c$-class and the negative ones are drawn from the others conditioned on $y \\neq n_c$.\n",
    "\n",
    "(2) One vs. One (OVO) Regime:\n",
    "$$\n",
    "    \\text{MAUROC}_{\\texttt{ovo}}(f) = \\frac{1}{N_{C}(N_{C} - 1)}\\sum_{i=1}^{N_C}\\text{AUROC}_{i|j}(f^{(i)}),\n",
    "$$\n",
    "where, in terms of $\\text{AUROC}_{i|j}(f^{(i)})$, the positive samples are drawn from the $i$-class and the negative ones are drawn from $j$-class. Note that $\\text{AUROC}_{i|j}(f^{(i)}) \\neq \\text{AUROC}_{j|i}(f^{(j)})$  since they employ different score functions.\n",
    "\n",
    "For more details, please refer to the literature:\n",
    "> Learning with Multiclass AUC: Theory and Algorithms. Zhiyong Yang, Qianqian Xu, Shilong Bao, Xiaochun Cao and Qingming Huang. T-PAMI, 2021. \n",
    "\n",
    "### Code Instructions\n",
    "\n",
    "#### Parameters\n",
    "- y_true: True labels or binary label indicators (numpy array with shape (n_samples,)). \n",
    "- y_pred: Prediction score (numpy array with shape (n_samples,) for binary case, (n_samples, n_classes) for multiclass case).\n",
    "- multi_type (str): {'ovo', 'ova'}, default='ova. Only worked for multiclass cases.\n",
    "- acc (bool): True or False, default=True. Only used for 'ovo' regime. If True, an accelerated calculation version for MAUORC is employed.\n",
    "\n",
    "#### Return\n",
    "- AUC (float): return corresponding AUROC score.\n",
    "\n",
    "#### Example"
   ]
  },
  {
   "cell_type": "code",
   "execution_count": null,
   "metadata": {},
   "outputs": [],
   "source": [
    "from XCurve.Metrics import AUROC\n",
    "import numpy as np \n",
    "\n",
    "# binary cases\n",
    "y_true = np.asarray([1, 0] * 50)\n",
    "y_pred = np.random.rand(100)\n",
    "\n",
    "binary_auc=AUROC(y_true=y_true, y_pred=y_pred)\n",
    "print(binary_auc)\n",
    "\n",
    "# multiclass cases\n",
    "\n",
    "y_true = np.asarray([0, 1, 3, 2, 4] * 10)\n",
    "y_pred = np.random.rand(50, 5)\n",
    "# normalized [0,1]\n",
    "y_pred = np.exp(y_pred)/ np.sum(np.exp(y_pred), axis=1, keepdims=True)\n",
    "\n",
    "# ova\n",
    "mauc_ova = AUROC(y_true=y_true, y_pred=y_pred, multi_type='ova')\n",
    "print(mauc_ova)\n",
    "\n",
    "# ovo\n",
    "mauc_ovo = AUROC(y_true=y_true, y_pred=y_pred, multi_type='ovo', acc=True)\n",
    "print(mauc_ovo)"
   ]
  },
  {
   "cell_type": "markdown",
   "metadata": {},
   "source": [
    "## Partial AUROC\n",
    "> XCurve.Metrics.PartialAUROC(y_true, y_pred, min_tpr, max_fpr)\n",
    "\n",
    "### Brief Introductions\n",
    "Compute Partial AUROC value with $TPR \\in [\\alpha, 1]$ and $BPR \\in [0, \\beta]$.\n",
    "$$\n",
    "    \\text{AUROC}_{\\alpha, \\beta}(f) = \\frac{1}{n_+^{\\alpha}n_-^{\\beta}}\\sum_{i=1}^{n_+^{\\alpha}}\\sum_{j=1}^{n_-^{\\beta}}\\mathbb{I}[f(x_{[i]}^+) > f(x_{[j]}^-)],\n",
    "$$\n",
    "where $n_+^{\\alpha} = \\lfloor n_+ \\cdot \\alpha\\rfloor$, $n_-^{\\beta} = \\lceil n_- \\cdot \\beta \\rceil$, $x_{[i]}^+$ is $i$-th smallest score among all positive instances and $x_{[j]}^-$ is $j$-th largest score among all negative instances. \n",
    "\n",
    "Note that, PartialAUROC only supports **binary cases**.\n",
    "\n",
    "### Code Instructions\n",
    "\n",
    "#### Parameters\n",
    "- y_true: True labels or binary label indicators (numpy array with shape (n_samples,)). \n",
    "- y_pred: Prediction score (numpy array with shape (n_samples,) for binary case, (n_samples, n_classes) for multiclass case).\n",
    "- min_tpr: $\\alpha \\in (0, 1]$. If $\\alpha=1$, it becomes OPAUC scheme.\n",
    "- max_fpr: $\\beta \\in (0, 1]$.\n",
    "\n",
    "#### Return\n",
    "- AUC (float): return corresponding AUROC score.\n",
    "\n",
    "#### Example"
   ]
  },
  {
   "cell_type": "code",
   "execution_count": null,
   "metadata": {},
   "outputs": [],
   "source": [
    "from XCurve.Metrics import PartialAUROC\n",
    "import numpy as np \n",
    "\n",
    "# binary cases\n",
    "y_true = np.asarray([1, 0] * 50)\n",
    "y_pred = np.random.rand(100)\n",
    "\n",
    "binary_auc=PartialAUROC(y_true=y_true, y_pred=y_pred, min_tpr=1, max_fpr=0.5)\n",
    "print(binary_auc)"
   ]
  }
 ],
 "metadata": {
  "kernelspec": {
   "display_name": "Python 3",
   "language": "python",
   "name": "python3"
  },
  "language_info": {
   "codemirror_mode": {
    "name": "ipython",
    "version": 3
   },
   "file_extension": ".py",
   "mimetype": "text/x-python",
   "name": "python",
   "nbconvert_exporter": "python",
   "pygments_lexer": "ipython3",
   "version": "3.11.0"
  },
  "orig_nbformat": 4
 },
 "nbformat": 4,
 "nbformat_minor": 2
}
