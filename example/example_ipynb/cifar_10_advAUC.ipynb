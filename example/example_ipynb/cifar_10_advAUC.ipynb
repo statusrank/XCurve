{
 "cells": [
  {
   "cell_type": "markdown",
   "metadata": {},
   "source": [
    "## XCurve.AUROC.losses.AdversarialAUROC\n",
    "This chapter will introduce how to conduct AUROC-oriented adversarial training on binary long-tail CIFAR-10 dataset. \n",
    "Note that, in the following, we take AdvAUCOptimizer as an example. The other one (i.e., RegAdvAUCOptimizer) stays similar to this one."
   ]
  },
  {
   "cell_type": "markdown",
   "id": "37656144",
   "metadata": {},
   "source": [
    "## Step 1\n",
    "To begin with, we should import some packages: "
   ]
  },
  {
   "cell_type": "code",
   "execution_count": null,
   "id": "995124fe",
   "metadata": {},
   "outputs": [],
   "source": [
    "from easydict import EasyDict as edict\n",
    "\n",
    "from torchvision import transforms"
   ]
  },
  {
   "cell_type": "code",
   "execution_count": null,
   "id": "49e0e1da",
   "metadata": {},
   "outputs": [],
   "source": [
    "import torch\n",
    "import random\n",
    "import numpy as np\n",
    "\n",
    "from XCurve.AUROC.dataloaders import StratifiedSampler # for imbalanced dataset sampling\n",
    "from XCurve.AUROC.dataloaders import IMBALANCECIFAR10, get_data_loaders # dataloader of Xcurve\n",
    "from XCurve.AUROC.losses import AdvAUROCLoss, PGDAdversary\n",
    "from XCurve.AUROC.optimizer import AdvAUCOptimizer\n",
    "from XCurve.AUROC.models import generate_net # create model or you can adopt any DNN models by Pytorch"
   ]
  },
  {
   "cell_type": "markdown",
   "id": "d1307dcc",
   "metadata": {},
   "source": [
    "## Step 2\n",
    "Set seed to ensure a reproducible experiment."
   ]
  },
  {
   "cell_type": "code",
   "execution_count": null,
   "id": "6c62d860",
   "metadata": {},
   "outputs": [],
   "source": [
    "seed = 1024\n",
    "random.seed(seed)\n",
    "torch.manual_seed(seed)\n",
    "torch.cuda.manual_seed(seed)\n",
    "np.random.seed(seed)\n",
    "torch.backends.cudnn.deterministic = True\n",
    "torch.backends.cudnn.benchmark = False"
   ]
  },
  {
   "cell_type": "markdown",
   "id": "5f3ccfd6",
   "metadata": {},
   "source": [
    "## Step 3\n",
    "Formulate your model, criterion and optimizer\n",
    "\n",
    "### Model\n",
    "Our XCurve supports any pytorch-driven DNN model. In the XCurve, we implement ResNet-family backbone (18, 20, 35, etc.), Densenet121 and MLP.\n",
    "> XCurve.AUROC.models.resnet18(num_classes=1, pretrained=None)\n",
    "\n",
    "### Criterion\n",
    "To decouple the pairwisely interdependent AUC risk, we use an instance-wise reformulation strategy to obtain an end-to-end AUROC-oriented AT method.\n",
    "> XCurve.AUROC.losses.AdversarialAUROC.AdvAUROCLoss(self, imratio=None, a=None, b=None, alpha=None)\n",
    "\n",
    "> XCurve.AUROC.losses.AdversarialAUROC.RegAdvAUROCLoss(self, imratio=None, a=None, b=None, alpha=None, lambda1=1.0, lambda2=1.0)\n",
    "\n",
    "#### Parameters\n",
    "- imratio (float): imbalance ration in your dataset. It must be precisely estimated based on your training set, i.e., $\\frac{\\#Pos.Num}{\\#Tot.Num}$.\n",
    "- a, b, alpha (torch.Tensor, float, requires_grad=True): initial values for a, b, $\\alpha$ in instance-wise AUROC loss (Default [0.0]).\n",
    "- lambda1, lambda2 (torch.Tensor, float, requires_grad=True): initial coefficient values for regularization (Default [1.0]).\n",
    "\n",
    "### Optimizer\n",
    "One-step optimizer to achieve Min-Max gradient update for PGD framework simultaneously.\n",
    "> XCurve.AUROC.optimizer.AdvAUCOptimizer(params, a, b, alpha, momentum=0.9, weight_decay=0, nesterov=False)\n",
    "\n",
    "> XCurve.AUROC.optimizer.RegAdvAUCOptimizer(params, a, b, alpha, lambda1, lambda2)\n",
    "#### Parameters\n",
    "- params: parameters in your pytorch model\n",
    "- a, b, alpha, lambda1, lambda2: parameters in your criterion."
   ]
  },
  {
   "cell_type": "code",
   "execution_count": null,
   "id": "3bc632bb",
   "metadata": {},
   "outputs": [],
   "source": [
    "\n",
    "# set params to create model\n",
    "args = edict({\n",
    "    \"model_type\": \"resnet18\", # (support resnet, densenet121 and mlp)\n",
    "    \"num_classes\": 2, # number of class\n",
    "    \"pretrained\": None # if the model is pretrained\n",
    "})\n",
    "# Or you can adopt any DNN models by Pytorch\n",
    "model = generate_net(args).cuda() # generate pytorch model \n",
    "\n",
    "p_hat = 0.1\n",
    "criterion = AdvAUROCLoss(imratio=p_hat)\n",
    "optimizer = AdvAUCOptimizer(model.parameters(), \n",
    "                            criterion.a, criterion.b, criterion.alpha,\n",
    "                            lr=0.1, momentum=0.9,\n",
    "                            weight_decay=1e-5)\n"
   ]
  },
  {
   "cell_type": "markdown",
   "id": "2787b2ec",
   "metadata": {},
   "source": [
    "## Step 4\n",
    "Now, we can start adversarial training!\n",
    "\n",
    "### Dataset and DataLoaders\n",
    "Before training, you should load your customized datasets and dataloaders. \n",
    "\n",
    "Note that, since AUROC requires there must at lease two classess in a mini-batch, you should employ a stratified sample (instead of randomly select).\n",
    "> XCurve.AUROC.dataloaders.StratifiedSampler(class_vector, batch_size, rpos=1, rneg=4)\n",
    "\n",
    "#### Parameters\n",
    "- class_vector (array): unique target vectors, such as [0, 1] for a binary case.\n",
    "- batch_size (int): training batch size.\n",
    "- rpos, rneg (int): your expected imbalance ratio (only work for binary cases). After setting this, the sampler will automatically adjust the imbalance ratio in the dataset by adding/dropping some samples if necessary.\n",
    "### PGD Adversary\n",
    "Remember use the PGD-based adversary to generate adversarial examples for the inner maximization:\n",
    "> XCurve.AUROC.losses.AdversarialAUROC.PGDAdversary(model, X, y, criterion, epsilon=8.0/255, alpha=2.0/255, attack_iters=10, restarts=1, norm='linf')\n",
    "\n",
    "#### Parameters\n",
    "- model: adversarial training model.\n",
    "- X (batch, $\\dots$): clean inputs.\n",
    "- y (batch, ): corresponding outputs.\n",
    "- criterion: white-box attack loss.\n",
    "- epsilon (float): the maximum perturbation budget.\n",
    "- alpha (float): PGD adversary step size.\n",
    "- attack_iters (int): PGD iteration step.\n",
    "- restart (int): repeat times for PGD-based attacks.\n",
    "- norm (str) {'linf', 'l2}: what kind of norm-induced attack.\n",
    "\n",
    "#### Return\n",
    "Return the adversarial perturbation $\\delta$ that induced the maximum loss among restart times PGD attacks.\n"
   ]
  },
  {
   "cell_type": "code",
   "execution_count": null,
   "id": "bf17c189",
   "metadata": {},
   "outputs": [],
   "source": [
    "transform_train = transforms.Compose([\n",
    "        transforms.RandomCrop(32, padding=4),\n",
    "        transforms.ToTensor(),\n",
    "    ])\n",
    "transform_test = transforms.Compose([\n",
    "    transforms.ToTensor(),\n",
    "])\n",
    "\n",
    "trainset = IMBALANCECIFAR10(root='dataset',\n",
    "                                 train=True,\n",
    "                                 download=True,\n",
    "                                 transform=transform_train)\n",
    "testset = IMBALANCECIFAR10(root='dataset',\n",
    "                                train=False,\n",
    "                                transform=transform_test)\n",
    "\n",
    "sampler = StratifiedSampler(trainset.targets,\n",
    "                            batch_size = 32,\n",
    "                            rpos = 1,\n",
    "                            rneg = 10)\n",
    "\n",
    "train_loader = torch.utils.data.DataLoader(\n",
    "        trainset,\n",
    "        batch_size=sampler.real_batch_size,\n",
    "        shuffle=(sampler is None),\n",
    "        num_workers=0,\n",
    "        pin_memory=True,\n",
    "        sampler=sampler,\n",
    "        drop_last=True)"
   ]
  },
  {
   "cell_type": "code",
   "execution_count": null,
   "id": "d6d3162b",
   "metadata": {},
   "outputs": [],
   "source": [
    "# forward of model for one epoch\n",
    "model.train()\n",
    "lower_limit, upper_limit = 0.0, 1.0\n",
    "\n",
    "for index, (X, y) in enumerate(train_loader):\n",
    "    X, y  = X.cuda(), y.cuda()\n",
    "    # target.shape => [batch_size, ]\n",
    "    # Note that we ask for the prediction of the model among [0,1] \n",
    "    # for any binary (i.e., sigmoid) or multi-class (i.e., softmax) AUROC optimization.\n",
    "    \n",
    "    # obtain adversarial examples\n",
    "    delta = PGDAdversary(model, X, y, criterion, epsilon=8.0/255, alpha=2.0/255, \n",
    "                         attack_iters=10, restarts=1, norm='linf')\n",
    "    adv_input = torch.clamp(X + delta, min=lower_limit, max=upper_limit)\n",
    "    adv_input.requires_grad_(requires_grad=False)\n",
    "    # forward\n",
    "    robust_output = model(adv_input).view_as(y)\n",
    "    pred = torch.sigmoid(robust_output) # [batch_size, num_classess] when num_classes > 2, o.w. output [batch_size, ] \n",
    "    robust_loss = criterion(pred, y)\n",
    "    if index % 30 == 0:\n",
    "        print(\"loss:\", robust_loss.item())\n",
    "    \n",
    "    # backward\n",
    "    optimizer.zero_grad()\n",
    "    robust_loss.backward()\n",
    "    \n",
    "    # If U use RegAdvAUROCLoss, firstly U should use `optimizer.record_grad()`, then use `optimizer.step()` !!!!\n",
    "    # optimizer.record_grad()\n",
    "    optimizer.step()"
   ]
  },
  {
   "cell_type": "code",
   "execution_count": null,
   "id": "18dd8a43",
   "metadata": {},
   "outputs": [],
   "source": []
  }
 ],
 "metadata": {
  "kernelspec": {
   "display_name": "Python 3",
   "language": "python",
   "name": "python3"
  },
  "language_info": {
   "codemirror_mode": {
    "name": "ipython",
    "version": 3
   },
   "file_extension": ".py",
   "mimetype": "text/x-python",
   "name": "python",
   "nbconvert_exporter": "python",
   "pygments_lexer": "ipython3",
   "version": "3.8.10"
  }
 },
 "nbformat": 4,
 "nbformat_minor": 5
}
