{
 "cells": [
  {
   "cell_type": "markdown",
   "metadata": {},
   "source": [
    "## Area Under the Precision-Recall Curve (AUPRC)\n",
    "\n",
    "> XCurve.Metrics.AUPRC(feats, targets) -> float [\\[SOURCE\\]](https://github.com/statusrank/XCurve/blob/master/XCurve/AUPRC/metrics.py)\n",
    "\n",
    "### Brief Introductions\n",
    "Compute Area Under the PR Curve (AUPRC) for the retrieval task.\n",
    "Given the d-dim features $\\{z_i\\}_{i=1}^n$ and category labels $\\{c_i\\}_{i=1}^n$, the function takes an example with index $q$ as the query, and then compute the scores and targets:\n",
    "$$\n",
    "    s_i = z_q^\\top z_i / (\\|z_q\\|\\|z_i\\|),~~ 1\\leq i \\leq n, i \\neq q.\n",
    "$$\n",
    "Denote $I^+ = \\{i|c_i = c_q, 1\\leq i \\leq n, i \\neq q\\}$, $I^- = \\{i|c_i \\neq c_q, 1\\leq i \\leq n, i \\neq q\\}$\n",
    "Afterward, the AUPRC of the query $q$ is defined as\n",
    "$$\n",
    "    \\text{AUPRC} = \\frac{1}{|I^+|} \\sum_{i\\in I^+} \\frac{\\sum_{j\\in I^+}\\mathbb{I}[s_i \\leq s_j]}{\\sum_{j\\in I^+ \\cup I^-}\\mathbb{I}[s_i \\leq s_j]}.\n",
    "$$\n",
    "The overall AUPRC is measures by the average value of all possible $q$:\n",
    "$$\n",
    "    \\text{AUPRC}_q = \\frac{1}{n} \\sum_{q=1}^n \\text{AUPRC}_q.\n",
    "$$\n",
    "\n",
    "### Code Instructions\n",
    "\n",
    "#### Parameters:\n",
    "- feats (torch.Tensor or np.ndarry): Input features of shape (N\\_samples, embedding_dim).\n",
    "- targets (torch.Tensor or np.ndarry): Ground truth of shape (N\\_samples).\n",
    "\n",
    "> RecallAtK(feats, targets) -> float or list\\[float\\] [\\[SOURCE\\]](https://github.com/statusrank/XCurve/blob/master/XCurve/AUPRC/metrics.py)\n",
    "\n",
    "#### Parameters:\n",
    "- feats (torch.Tensor or np.ndarry): Input features of shape (N\\_samples, embedding_dim).\n",
    "- targets (torch.Tensor or np.ndarry): Ground truth of shape (N\\_sample\n",
    "- k (int or list\\[int\\]): List of k to computer Recall@k. \n",
    "\n",
    "#### Example:"
   ]
  },
  {
   "cell_type": "code",
   "execution_count": 4,
   "metadata": {},
   "outputs": [
    {
     "name": "stdout",
     "output_type": "stream",
     "text": [
      "0.001570523832924664\n",
      "0.00079345703125\n",
      "[0.00079345703125, 0.00384521484375, 0.01654052734375]\n"
     ]
    }
   ],
   "source": [
    "import torch\n",
    "from XCurve.AUPRC import AUPRC, RecallAtK\n",
    "\n",
    "feats = torch.randn((2**14, 128)).numpy()\n",
    "targets = torch.randint(0, 1000, (2**14, 1)).numpy()\n",
    "print(AUPRC(feats, targets))\n",
    "print(RecallAtK(feats, targets, 1))\n",
    "print(RecallAtK(feats, targets, [1,4,16]))"
   ]
  }
 ],
 "metadata": {
  "interpreter": {
   "hash": "9c7b29a3529c140420126446c3d126c7a36d0833188f5baf93b843fa26825432"
  },
  "kernelspec": {
   "display_name": "Python 3.8.10 64-bit ('pytorch1.8': conda)",
   "name": "python3"
  },
  "language_info": {
   "codemirror_mode": {
    "name": "ipython",
    "version": 3
   },
   "file_extension": ".py",
   "mimetype": "text/x-python",
   "name": "python",
   "nbconvert_exporter": "python",
   "pygments_lexer": "ipython3",
   "version": "3.8.10"
  },
  "orig_nbformat": 4
 },
 "nbformat": 4,
 "nbformat_minor": 2
}
