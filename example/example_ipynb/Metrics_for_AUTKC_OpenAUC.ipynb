{
 "cells": [
  {
   "cell_type": "markdown",
   "metadata": {},
   "source": [
    "## Top-k Accuracy\n",
    "> XCurve.Metrics.TopkAcc(y_pred, y_true, k_list=(1, ))\n",
    "\n",
    "### Brief Introductions\n",
    "Compute the top-k accuracy for each k in the specified k-list. For each k value, this metric can be denoted as:\n",
    "$$\n",
    "    \\text{Acc}_k(f) = \\frac{1}{n} \\sum_{i=1}^{n} \\mathbb{I} \\left( f(x_i)_{y_i} > f(x_i)_{[k]} \\right),\n",
    "$$\n",
    "where $f(x_i)_{y_i}$ is the score of the ground-truth label, $f(x_i)_{[k]}$ is the $k$-largest value in $f(x) \\in \\mathbb{R}^C$, $C$ denotes the number of classes, and $\\mathbb{I}(\\cdot)$ is the indicator function. \n",
    "\n",
    "For more details, please refer to the literature:\n",
    "> Optimizing Partial Area Under the Top-k Curve: Theory and Practice. Zitai Wang, Qianqian Xu, Zhiyong Yang, Yuan He, Xiaochun Cao and Qingming Huang. T-PAMI, 2023. \n",
    "\n",
    "### Code Instructions\n",
    "\n",
    "#### Parameters\n",
    "- y_pred: Prediction score (torch array with shape (n_samples, n_classes)).\n",
    "- y_true: True labels (torch array with shape (n_samples,)). \n",
    "- k_list: The specified k-list\n",
    "\n",
    "#### Return\n",
    "- Top-k Accuracy (list): return the top-k accuracy for each k in the specified k-list, where the values are multiplied by 100.\n",
    "\n",
    "#### Example"
   ]
  },
  {
   "cell_type": "code",
   "execution_count": 12,
   "metadata": {},
   "outputs": [
    {
     "name": "stdout",
     "output_type": "stream",
     "text": [
      "[1 4 4 4 1 3 3 3 2 1] [[0.64838829 0.55347873 0.54402452 0.44256019 0.93269784]\n",
      " [0.90289872 0.20138704 0.535019   0.09570918 0.82571798]\n",
      " [0.56390727 0.54268805 0.51674891 0.38070372 0.88541311]\n",
      " [0.7735994  0.91112566 0.16059716 0.55685722 0.3408125 ]\n",
      " [0.02986079 0.25893837 0.77636374 0.19880775 0.45766495]\n",
      " [0.34103661 0.78989861 0.92651628 0.93653775 0.98839753]\n",
      " [0.29854327 0.52052683 0.87691339 0.67445962 0.67494816]\n",
      " [0.0353367  0.73544842 0.31514033 0.87075895 0.86990737]\n",
      " [0.71549516 0.65359928 0.15977091 0.09389867 0.25932929]\n",
      " [0.25369997 0.84567305 0.51449316 0.54070907 0.51912976]]\n",
      "[tensor(30.), tensor(80.)]\n"
     ]
    }
   ],
   "source": [
    "# from Metrics import TopkAcc\n",
    "from XCurve.Metrics import TopkAcc\n",
    "import numpy as np \n",
    "import torch\n",
    "\n",
    "n_samples, C = 10, 5\n",
    "k_list = (1, 3)\n",
    "y_true = np.random.randint(low=0, high=C, size=(n_samples, ))\n",
    "y_pred = np.random.rand(n_samples, C)\n",
    "print(y_true, y_pred)\n",
    "y_true = torch.tensor(y_true)\n",
    "y_pred = torch.tensor(y_pred)\n",
    "\n",
    "topk_acc=TopkAcc(y_pred, y_true, k_list)\n",
    "print(topk_acc)"
   ]
  },
  {
   "cell_type": "markdown",
   "metadata": {},
   "source": [
    "## AUTKC\n",
    "> XCurve.Metrics.AUTKC(y_pred, y_true, k_list=(1, ))\n",
    "\n",
    "### Brief Introductions\n",
    "Compute AUTKC for each K in the specified K-list. For each K value, this metric can be denoted as:\n",
    "$$\n",
    "    \\text{AUTKC}(f) = \\frac{1}{n K} \\sum_{i=1}^{n} \\sum_{k=1}^{K} \\mathbb{I} \\left( f(x_i)_{y_i} > f(x_i)_{[k]} \\right),\n",
    "$$\n",
    "where $f(x_i)_{y_i}$ is the score of the ground-truth label, $f(x_i)_{[k]}$ is the $k$-largest value in $f(x) \\in \\mathbb{R}^C$, $C$ denotes the number of classes, and $\\mathbb{I}(\\cdot)$ is the indicator function. \n",
    "\n",
    "For more details, please refer to the literature:\n",
    "> Optimizing Partial Area Under the Top-k Curve: Theory and Practice. Zitai Wang, Qianqian Xu, Zhiyong Yang, Yuan He, Xiaochun Cao and Qingming Huang. T-PAMI, 2023. \n",
    "\n",
    "### Code Instructions\n",
    "\n",
    "#### Parameters\n",
    "- y_pred: Prediction score (torch array with shape (n_samples, n_classes)).\n",
    "- y_true: True labels (torch array with shape (n_samples,)). \n",
    "- k_list: The specified k-list\n",
    "\n",
    "#### Return\n",
    "- AUTKC (list): return the AUTKC value for each K in the specified K-list, where the values are multiplied by 100.\n",
    "\n",
    "#### Example"
   ]
  },
  {
   "cell_type": "code",
   "execution_count": 13,
   "metadata": {},
   "outputs": [
    {
     "name": "stdout",
     "output_type": "stream",
     "text": [
      "[1 2 0 0 0 1 2 0 2 0] [[0.32585825 0.71367106 0.36318442 0.01938121 0.48031555]\n",
      " [0.13788876 0.25927396 0.68111324 0.0337897  0.24350969]\n",
      " [0.65350215 0.80755938 0.33121928 0.7923216  0.2436303 ]\n",
      " [0.9621713  0.58982437 0.61118424 0.85345634 0.30304957]\n",
      " [0.60989384 0.03467619 0.79976203 0.23143927 0.3598388 ]\n",
      " [0.1030448  0.92547417 0.60763191 0.41588544 0.89665524]\n",
      " [0.82591484 0.83203993 0.65667892 0.27456011 0.30116539]\n",
      " [0.54332524 0.24978069 0.62992761 0.59985384 0.68540005]\n",
      " [0.25644439 0.35246559 0.13448705 0.57478406 0.43870188]\n",
      " [0.94486895 0.08842041 0.13716438 0.32860897 0.31104301]]\n",
      "[tensor(50.), tensor(63.3333)]\n"
     ]
    }
   ],
   "source": [
    "# from Metrics import AUTKC\n",
    "from XCurve.Metrics import TopkAcc, AUTKC\n",
    "import numpy as np \n",
    "import torch\n",
    "\n",
    "n_samples, C = 10, 5\n",
    "k_list = (1, 3)\n",
    "y_true = np.random.randint(low=0, high=C, size=(n_samples, ))\n",
    "y_pred = np.random.rand(n_samples, C)\n",
    "print(y_true, y_pred)\n",
    "y_true = torch.LongTensor(y_true)\n",
    "y_pred = torch.tensor(y_pred)\n",
    "\n",
    "autkc=AUTKC(y_pred, y_true, k_list)\n",
    "print(autkc)"
   ]
  },
  {
   "cell_type": "markdown",
   "metadata": {},
   "source": [
    "## Macro Open-Set F-score\n",
    "> XCurve.Metrics.MacroF(close_pred, close_labels, open_pred, open_labels, t_list)\n",
    "\n",
    "### Brief Introductions\n",
    "Compute Macro Open-Set F-score for each threshold in the given decision-making conditions. For each threshold, this metric can be denoted as:\n",
    "$$\n",
    "    \\text{F-score}(f) = 2 \\times \\frac{\\text{P}_\\text{k}(f) \\times \\text{R}_\\text{k}(f)}{\\text{P}_\\text{k}(f) + \\text{R}_\\text{k}(f)},\n",
    "$$\n",
    "where the precision and recall of known classes is defined as:\n",
    "$$\n",
    "    \\text{P}_\\text{k}(f) = \\frac{1}{C} \\sum_{i=1}^{C} \\frac{\\text{TP}_i}{\\text{TP}_i + \\text{FP}_i}, \\text{R}_\\text{k}(f) = \\frac{1}{C} \\sum_{i=1}^{C} \\frac{\\text{TP}_i}{\\text{TP}_i + \\text{FN}_i},\n",
    "$$\n",
    "and $\\text{TP}_i, \\text{FP}_i, \\text{FN}_i$ are the True Positive (TP), False Positive (FP), False Negative (FN) performance of the close-set class $i$ under the given open-set decision threshold $t$, respectively; $C$ denotes the number of known classes (close-set). \n",
    "\n",
    "For more details, please refer to the literature:\n",
    "> OpenAUC: Towards AUC-Oriented Open-Set Recognition. Zitai Wang, Qianqian Xu, Zhiyong Yang, Yuan He, Xiaochun Cao and Qingming Huang. NeurIPS, 2022. \n",
    "\n",
    "> Nearest neighbors distance ratio open-set classifier. Pedro Ribeiro Mendes Júnior, Roberto Medeiros de Souza, Rafael de Oliveira Werneck, Bernardo V. Stein, Daniel V. Pazinato, Waldir R. de Almeida, Otávio A. B. Penatti, Ricardo da Silva Torres, Anderson Rocha. Mach. Lean., 2017.\n",
    "\n",
    "### Code Instructions\n",
    "\n",
    "#### Parameters\n",
    "- close_pred: Predicted close-set scores (numpy array with shape (n_samples, n_classes)).\n",
    "- close_labels: True close-set label (numpy array with shape (n_samples,)). \n",
    "- open_pred: Predicted open-set score (numpy array with shape (n_samples,)). \n",
    "- open_labels: True open-set label, which is binary (numpy array with shape (n_samples,)). \n",
    "- t_list: the list of open-set decision threshold\n",
    "\n",
    "#### Return\n",
    "- Macro Open-Set F-score (list): return the Macro Open-Set F-score under the given threshold list.\n",
    "\n",
    "#### Example"
   ]
  },
  {
   "cell_type": "code",
   "execution_count": 14,
   "metadata": {},
   "outputs": [
    {
     "name": "stdout",
     "output_type": "stream",
     "text": [
      "[[0.22505163 0.56565412 0.4587647  0.30046217 0.25092002]\n",
      " [0.77524922 0.18918122 0.51540363 0.22983436 0.38370275]\n",
      " [0.86520307 0.60817761 0.4678875  0.93207612 0.21062528]\n",
      " [0.81050332 0.20231395 0.26201179 0.09741689 0.91836598]\n",
      " [0.80361421 0.86571197 0.41565162 0.98073268 0.51166106]\n",
      " [0.10264231 0.49819469 0.52019938 0.58886308 0.61867914]\n",
      " [0.23672743 0.28810752 0.34941579 0.64526916 0.97516705]\n",
      " [0.8195246  0.31829393 0.31659231 0.21084115 0.59936089]\n",
      " [0.63162671 0.82508019 0.05080957 0.88448093 0.32695938]\n",
      " [0.16358325 0.31049377 0.26492354 0.94893459 0.21349402]] [1 0 0 4 1 3 0 4 3 0] [0.58096977 0.72253053 0.97245012 0.10536401 0.92602635 0.23475404\n",
      " 0.78746598 0.16379799 0.0078515  0.70920022] [1 1 1 0 1 0 1 1 0 1]\n",
      "0.5714285714285715 [0, 0.30769230769230765, 0.5714285714285715, 0.5, 0.36363636363636365]\n"
     ]
    }
   ],
   "source": [
    "from XCurve.Metrics import MacroF\n",
    "import numpy as np \n",
    "\n",
    "n_samples, C = 10, 5\n",
    "t_list = (0,2, 0.4, 0.6, 0.8)\n",
    "close_pred = np.random.rand(n_samples, C)\n",
    "close_labels = np.random.randint(low=0, high=C, size=(n_samples, ))\n",
    "open_pred = np.random.rand(n_samples, )\n",
    "open_labels = np.random.randint(low=0, high=2, size=(n_samples, ))\n",
    "print(close_pred, close_labels, open_pred, open_labels)\n",
    "\n",
    "MacroF_score = MacroF(close_pred, close_labels, open_pred, open_labels, t_list)\n",
    "print(max(MacroF_score), MacroF_score)"
   ]
  },
  {
   "cell_type": "markdown",
   "metadata": {},
   "source": [
    "## Micro Open-Set F-score\n",
    "> XCurve.Metrics.MicroF(close_pred, close_labels, open_pred, open_labels, t_list)\n",
    "\n",
    "### Brief Introductions\n",
    "Compute Micro Open-Set F-score for each threshold in the given decision-making conditions. For each threshold, this metric can be denoted as:\n",
    "$$\n",
    "    \\text{F-score}(f) = 2 \\times \\frac{\\text{P}_\\text{k}(f) \\times \\text{R}_\\text{k}(f)}{\\text{P}_\\text{k}(f) + \\text{R}_\\text{k}(f)},\n",
    "$$\n",
    "where the precision and recall of known classes is defined as:\n",
    "$$\n",
    "    \\text{P}_\\text{k}(f) = \\frac{\\sum_{i=1}^{C} \\text{TP}_i}{\\sum_{i=1}^{C} (\\text{TP}_i + \\text{FP}_i)}, \\text{R}_\\text{k}(f) = \\frac{\\sum_{i=1}^{C} \\text{TP}_i}{\\sum_{i=1}^{C} (\\text{TP}_i + \\text{FN}_i)},\n",
    "$$\n",
    "and $\\text{TP}_i, \\text{FP}_i, \\text{FN}_i$ are the True Positive (TP), False Positive (FP), False Negative (FN) performance of the close-set class $i$ under the given open-set decision threshold $t$, respectively; $C$ denotes the number of known classes (close-set). \n",
    "\n",
    "For more details, please refer to the literature:\n",
    "> OpenAUC: Towards AUC-Oriented Open-Set Recognition. Zitai Wang, Qianqian Xu, Zhiyong Yang, Yuan He, Xiaochun Cao and Qingming Huang. NeurIPS, 2022. \n",
    "\n",
    "> Nearest neighbors distance ratio open-set classifier. Pedro Ribeiro Mendes Júnior, Roberto Medeiros de Souza, Rafael de Oliveira Werneck, Bernardo V. Stein, Daniel V. Pazinato, Waldir R. de Almeida, Otávio A. B. Penatti, Ricardo da Silva Torres, Anderson Rocha. Mach. Lean., 2017.\n",
    "\n",
    "### Code Instructions\n",
    "\n",
    "#### Parameters\n",
    "- close_pred: Predicted close-set scores (numpy array with shape (n_samples, n_classes)).\n",
    "- close_labels: True close-set label (numpy array with shape (n_samples,)). \n",
    "- open_pred: Predicted open-set score (numpy array with shape (n_samples,)). \n",
    "- open_labels: True open-set label, which is binary (numpy array with shape (n_samples,)). \n",
    "- t_list: the list of open-set decision threshold\n",
    "\n",
    "#### Return\n",
    "- Micro Open-Set F-score (list): return the Micro Open-Set F-score under the given threshold list.\n",
    "\n",
    "#### Example"
   ]
  },
  {
   "cell_type": "code",
   "execution_count": 15,
   "metadata": {},
   "outputs": [
    {
     "name": "stdout",
     "output_type": "stream",
     "text": [
      "[[0.94476045 0.31232958 0.7594962  0.5459496  0.11673619]\n",
      " [0.40129684 0.46983343 0.59049727 0.02780379 0.39378312]\n",
      " [0.09031484 0.39312287 0.7456237  0.68701889 0.6515781 ]\n",
      " [0.96727651 0.32777401 0.31835944 0.32121615 0.60035559]\n",
      " [0.12668534 0.74379642 0.67996953 0.0638046  0.93851802]\n",
      " [0.85612227 0.81200387 0.71530705 0.56665163 0.3869682 ]\n",
      " [0.35571454 0.52809497 0.80250131 0.65778885 0.01543388]\n",
      " [0.45475614 0.64144596 0.37641412 0.54375577 0.80926811]\n",
      " [0.234557   0.84534896 0.25663904 0.57333292 0.1715498 ]\n",
      " [0.97534425 0.86363475 0.79658496 0.98944572 0.01503485]] [1 0 2 2 3 3 2 4 2 1] [0.43159292 0.54486159 0.71308451 0.32513637 0.33009744 0.01605909\n",
      " 0.32385449 0.34015317 0.31708952 0.51067112] [0 1 0 0 0 1 1 0 1 1]\n",
      "0.21428571428571427 [0, 0.21428571428571427, 0.13333333333333333, 0.13333333333333333, 0.21428571428571427]\n"
     ]
    }
   ],
   "source": [
    "from XCurve.Metrics import MicroF\n",
    "import numpy as np \n",
    "\n",
    "n_samples, C = 10, 5\n",
    "t_list = (0,2, 0.4, 0.6, 0.8)\n",
    "close_pred = np.random.rand(n_samples, C)\n",
    "close_labels = np.random.randint(low=0, high=C, size=(n_samples, ))\n",
    "open_pred = np.random.rand(n_samples, )\n",
    "open_labels = np.random.randint(low=0, high=2, size=(n_samples, ))\n",
    "print(close_pred, close_labels, open_pred, open_labels)\n",
    "\n",
    "MicroF_score = MicroF(close_pred, close_labels, open_pred, open_labels, t_list)\n",
    "print(max(MicroF_score), MicroF_score)"
   ]
  },
  {
   "cell_type": "markdown",
   "metadata": {},
   "source": [
    "## Close-set Accuracy\n",
    "> XCurve.Metrics.ClosedSetAcc(preds, labels)\n",
    "\n",
    "### Brief Introductions\n",
    "Compute the close-set accuracy, which is exactly the same as that for the traditional multiclass classification. For more details, please refer to the literature:\n",
    "> OpenAUC: Towards AUC-Oriented Open-Set Recognition. Zitai Wang, Qianqian Xu, Zhiyong Yang, Yuan He, Xiaochun Cao and Qingming Huang. NeurIPS, 2022. \n",
    "\n",
    "### Code Instructions\n",
    "\n",
    "#### Parameters\n",
    "- preds: Predicted close-set scores (numpy array with shape (n_samples, n_classes)).\n",
    "- labels: True close-set label (numpy array with shape (n_samples,)). \n",
    "\n",
    "#### Return\n",
    "- Close-set accuracy (int): return the close-set accuracy of the given predictions.\n",
    "\n",
    "#### Example"
   ]
  },
  {
   "cell_type": "code",
   "execution_count": 16,
   "metadata": {},
   "outputs": [
    {
     "name": "stdout",
     "output_type": "stream",
     "text": [
      "[[0.49754002 0.68136726 0.00655441 0.7307169  0.24021935]\n",
      " [0.68390136 0.02843787 0.73061857 0.82048215 0.29817192]\n",
      " [0.85291294 0.22381565 0.44356664 0.20900793 0.71125885]\n",
      " [0.99540302 0.22050627 0.60666405 0.69529683 0.23555486]\n",
      " [0.57980707 0.64937927 0.74586459 0.54480237 0.40103413]\n",
      " [0.39926519 0.89198329 0.81554857 0.34728837 0.18800771]\n",
      " [0.57526907 0.81787129 0.00900459 0.8563558  0.06290815]\n",
      " [0.32171042 0.08209535 0.96669313 0.05638027 0.58086259]\n",
      " [0.97084678 0.04685043 0.93050665 0.14153485 0.88362274]\n",
      " [0.01322846 0.19979784 0.43723429 0.97349314 0.17223946]] [0 1 3 2 0 0 0 1 0 3]\n",
      "0.2\n"
     ]
    }
   ],
   "source": [
    "from XCurve.Metrics import ClosedSetAcc\n",
    "import numpy as np \n",
    "\n",
    "n_samples, C = 10, 5\n",
    "close_pred = np.random.rand(n_samples, C)\n",
    "close_labels = np.random.randint(low=0, high=C, size=(n_samples, ))\n",
    "print(close_pred, close_labels)\n",
    "\n",
    "acc = ClosedSetAcc(close_pred, close_labels)\n",
    "print(acc)"
   ]
  },
  {
   "cell_type": "markdown",
   "metadata": {},
   "source": [
    "## Open-set Accuracy at Given Ratio of Open-Set TPR performance \n",
    "> XCurve.Metrics.Acc_At_TPR(open_set_preds, open_set_labels, r=0.95)\n",
    "\n",
    "### Brief Introductions\n",
    "Compute the open-set accuracy at the given ratio of open-set TPR performance. For more details, please refer to the literature:\n",
    "> Open-Set Recognition: A Good Closed-Set Classifier is All You Need. Sagar Vaze, Kai Han, Andrea Vedaldi, Andrew Zisserman. ICLR, 2022.\n",
    "\n",
    "### Code Instructions\n",
    "\n",
    "#### Parameters\n",
    "- open_set_preds: Predicted open-set score (numpy array with shape (n_samples, )).\n",
    "- open_set_labels: True open-set label (numpy array with shape (n_samples,)). \n",
    "- r: The specific ratio of the TPR performance (float, 0.95 default).\n",
    "\n",
    "#### Return\n",
    "- Open-set Accuracy at Given Ratio of Open-Set TPR performance (int).\n",
    "\n",
    "#### Example"
   ]
  },
  {
   "cell_type": "code",
   "execution_count": 17,
   "metadata": {},
   "outputs": [
    {
     "name": "stdout",
     "output_type": "stream",
     "text": [
      "[0.52927694 0.35955991 0.05612158 0.43284317 0.21076107 0.04785475\n",
      " 0.20930379 0.79965758 0.31728419 0.99811264] [0 1 1 0 1 0 1 0 1 1]\n",
      "0.7\n"
     ]
    }
   ],
   "source": [
    "from XCurve.Metrics import Acc_At_TPR\n",
    "import numpy as np \n",
    "\n",
    "n_samples, C = 10, 5\n",
    "open_pred = np.random.rand(n_samples)\n",
    "open_labels = np.random.randint(low=0, high=2, size=(n_samples, ))\n",
    "print(open_pred, open_labels)\n",
    "\n",
    "acc_at_95_tpr = Acc_At_TPR(open_pred, open_labels, 0.95)\n",
    "print(acc_at_95_tpr)"
   ]
  },
  {
   "cell_type": "markdown",
   "metadata": {},
   "source": [
    "## Open-set AUROC\n",
    "> XCurve.Metrics.AUROC(open_set_preds, open_set_labels)\n",
    "\n",
    "### Brief Introductions\n",
    "Compute the open-set AUROC, which is exactly the same as that for binary classification and novelty dectection. For more details, please refer to the literature:\n",
    "> OpenAUC: Towards AUC-Oriented Open-Set Recognition. Zitai Wang, Qianqian Xu, Zhiyong Yang, Yuan He, Xiaochun Cao and Qingming Huang. NeurIPS, 2022. \n",
    "\n",
    "### Code Instructions\n",
    "\n",
    "#### Parameters\n",
    "- open_set_preds: Predicted open-set score (numpy array with shape (n_samples, )).\n",
    "- open_set_labels: True open-set label (numpy array with shape (n_samples,)). \n",
    "\n",
    "#### Return\n",
    "- Open-set AUROC (int).\n",
    "\n",
    "#### Example"
   ]
  },
  {
   "cell_type": "code",
   "execution_count": 18,
   "metadata": {},
   "outputs": [
    {
     "name": "stdout",
     "output_type": "stream",
     "text": [
      "[0.77690503 0.16216813 0.2373073  0.30772442 0.06389388 0.90795935\n",
      " 0.15873279 0.77110265 0.19173886 0.70849355] [0 0 1 1 1 1 1 1 0 1]\n",
      "0.523809523809524\n"
     ]
    }
   ],
   "source": [
    "from XCurve.Metrics import AUROC\n",
    "import numpy as np \n",
    "\n",
    "n_samples, C = 10, 5\n",
    "open_pred = np.random.rand(n_samples)\n",
    "open_labels = np.random.randint(low=0, high=2, size=(n_samples, ))\n",
    "print(open_pred, open_labels)\n",
    "\n",
    "\n",
    "acc_at_95_tpr = AUROC(y_true = open_labels, y_pred = open_pred)\n",
    "print(acc_at_95_tpr)\n"
   ]
  },
  {
   "cell_type": "markdown",
   "metadata": {},
   "source": [
    "## OpenAUC\n",
    "> XCurve.Metrics.OpenAUC(open_set_pred_known, open_set_pred_unknown, close_set_pred_class, close_set_labels)\n",
    "\n",
    "### Brief Introductions\n",
    "Compute the OpenAUC score, which is denoted as:\n",
    "$$\n",
    "    \\text{OpenAUC}(h, r) = \\frac{1}{N_k N_u} \\sum_{i = 1}^{N_k} \\sum_{j = 1}^{N_u} \\mathbb{I}(h(x_i) = y_i) \\cdot \\mathbb{I}(r(x_j) > r(x_i)),\n",
    "$$\n",
    "where $h: \\mathcal{X} \\to \\mathcal{Y}_k$ represents the close-set classifier, $r: \\mathcal{X} \\to \\mathbb{R}$ denotes the open-set ranker; $(x_i, y_i)$ and $x_j$ are sampled from close-set and open-set, respectively.\n",
    "\n",
    "> OpenAUC: Towards AUC-Oriented Open-Set Recognition. Zitai Wang, Qianqian Xu, Zhiyong Yang, Yuan He, Xiaochun Cao and Qingming Huang. NeurIPS, 2022. \n",
    "\n",
    "### Code Instructions\n",
    "\n",
    "#### Parameters\n",
    "- open_set_pred_known: Predicted open-set score of close-set samples (numpy array with shape (n_close_samples, )).\n",
    "- open_set_pred_unknown: Predicted open-set score of open-set samples (numpy array with shape (n_open_samples,)). \n",
    "- close_set_pred_class: Predicted close-set class of close-set samples (numpy array with shape (n_close_samples, )).\n",
    "- close_set_labels: True close-set class of close-set samples (numpy array with shape (n_close_samples, )).\n",
    "\n",
    "#### Return\n",
    "- OpenAUC (int).\n",
    "\n",
    "#### Example"
   ]
  },
  {
   "cell_type": "code",
   "execution_count": 19,
   "metadata": {},
   "outputs": [
    {
     "name": "stdout",
     "output_type": "stream",
     "text": [
      "[0.10813683 0.46179204 0.46586681 0.38944239 0.06500318 0.85720791\n",
      " 0.23660373 0.39949662 0.12335166 0.80062615] [0.01781371 0.48136111 0.58010638 0.54412853 0.44452411 0.05729807\n",
      " 0.2351886  0.64246962] [3 2 3 0 0 1 1 2 2 2] [2 2 2 1 4 0 3 3 0 0]\n",
      "0.04999999999999999\n"
     ]
    }
   ],
   "source": [
    "from XCurve.Metrics import OpenAUC\n",
    "import numpy as np \n",
    "\n",
    "n_close_samples, C, n_open_samples = 10, 5, 8\n",
    "open_set_pred_known = np.random.rand(n_close_samples)\n",
    "open_set_pred_unknown = np.random.rand(n_open_samples)\n",
    "close_set_pred_class = np.random.randint(low=0, high=C, size=(n_close_samples, ))\n",
    "close_set_labels = np.random.randint(low=0, high=C, size=(n_close_samples, ))\n",
    "print(open_set_pred_known, open_set_pred_unknown, close_set_pred_class, close_set_labels)\n",
    "\n",
    "openauc = OpenAUC(open_set_pred_known, open_set_pred_unknown, close_set_pred_class, close_set_labels)\n",
    "print(openauc)"
   ]
  },
  {
   "cell_type": "code",
   "execution_count": null,
   "metadata": {},
   "outputs": [],
   "source": []
  }
 ],
 "metadata": {
  "kernelspec": {
   "display_name": "Python 3",
   "language": "python",
   "name": "python3"
  },
  "language_info": {
   "codemirror_mode": {
    "name": "ipython",
    "version": 3
   },
   "file_extension": ".py",
   "mimetype": "text/x-python",
   "name": "python",
   "nbconvert_exporter": "python",
   "pygments_lexer": "ipython3",
   "version": "3.8.10"
  },
  "orig_nbformat": 4
 },
 "nbformat": 4,
 "nbformat_minor": 2
}
