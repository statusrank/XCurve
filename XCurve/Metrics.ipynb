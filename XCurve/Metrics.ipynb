{
 "cells": [
  {
   "cell_type": "markdown",
   "metadata": {},
   "source": [
    "## Top-k Accuracy\n",
    "> XCurve.Metrics.TopkAcc(y_pred, y_true, k_list=(1, ))\n",
    "\n",
    "### Brief Introductions\n",
    "Compute the top-k accuracy for each k in the specified k-list. For each k value, this metric can be denoted as:\n",
    "$$\n",
    "    \\text{Acc}_k(f) = \\frac{1}{n} \\sum_{i=1}^{n} \\mathbb{I} \\left( f(x_i)_{y_i} > f(x_i)_{[k]} \\right),\n",
    "$$\n",
    "where $f(x_i)_{y_i}$ is the score of the ground-truth label, $f(x_i)_{[k]}$ is the $k$-largest value in $f(x) \\in \\mathbb{R}^C$, $C$ denotes the number of classes, and $\\mathbb{I}(\\cdot)$ is the indicator function. \n",
    "\n",
    "For more details, please refer to the literature:\n",
    "> Optimizing Partial Area Under the Top-k Curve: Theory and Practice. Zitai Wang, Qianqian Xu, Zhiyong Yang, Yuan He, Xiaochun Cao and Qingming Huang. T-PAMI, 2023. \n",
    "\n",
    "### Code Instructions\n",
    "\n",
    "#### Parameters\n",
    "- y_pred: Prediction score (torch array with shape (n_samples, n_classes)).\n",
    "- y_true: True labels (torch array with shape (n_samples,)). \n",
    "- k_list: The specified k-list\n",
    "\n",
    "#### Return\n",
    "- Top-k Accuracy (list): return the top-k accuracy for each k in the specified k-list, where the values are multiplied by 100.\n",
    "\n",
    "#### Example"
   ]
  },
  {
   "cell_type": "code",
   "execution_count": 21,
   "metadata": {},
   "outputs": [
    {
     "name": "stdout",
     "output_type": "stream",
     "text": [
      "[3 2 4 1 1 1 4 4 2 4] [[0.19164027 0.34880401 0.01405983 0.63749076 0.4723965 ]\n",
      " [0.37742356 0.91971887 0.75663368 0.88626164 0.28900607]\n",
      " [0.70599817 0.14515437 0.92703292 0.25546784 0.53140083]\n",
      " [0.43893413 0.65771666 0.84103903 0.0599529  0.91868449]\n",
      " [0.98505314 0.14926645 0.39919683 0.2809031  0.24024436]\n",
      " [0.17448092 0.36092299 0.47050776 0.08721417 0.27165934]\n",
      " [0.35809422 0.58765591 0.73592721 0.14659405 0.99683407]\n",
      " [0.14213289 0.07431412 0.87194129 0.19784914 0.49950462]\n",
      " [0.77964809 0.66647467 0.37650761 0.78635834 0.68518816]\n",
      " [0.87429223 0.65933281 0.22680662 0.01083235 0.7975534 ]]\n",
      "[tensor(20.), tensor(80.)]\n"
     ]
    }
   ],
   "source": [
    "from Metrics import TopkAcc\n",
    "import numpy as np \n",
    "import torch\n",
    "\n",
    "# binary cases\n",
    "n_samples = 10\n",
    "C = 5\n",
    "k_list = (1, 3)\n",
    "y_true = np.random.randint(low=0, high=C, size=(n_samples, ))\n",
    "y_pred = np.random.rand(n_samples, C)\n",
    "print(y_true, y_pred)\n",
    "y_true = torch.from_numpy(y_true)\n",
    "y_pred = torch.from_numpy(y_pred)\n",
    "\n",
    "topk_acc=TopkAcc(y_pred, y_true, k_list)\n",
    "print(topk_acc)"
   ]
  }
 ],
 "metadata": {
  "kernelspec": {
   "display_name": "Python 3",
   "language": "python",
   "name": "python3"
  },
  "language_info": {
   "codemirror_mode": {
    "name": "ipython",
    "version": 3
   },
   "file_extension": ".py",
   "mimetype": "text/x-python",
   "name": "python",
   "nbconvert_exporter": "python",
   "pygments_lexer": "ipython3",
   "version": "3.9.13"
  },
  "orig_nbformat": 4
 },
 "nbformat": 4,
 "nbformat_minor": 2
}
